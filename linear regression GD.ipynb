{
 "cells": [
  {
   "cell_type": "code",
   "execution_count": 69,
   "id": "50663e34",
   "metadata": {},
   "outputs": [],
   "source": [
    "import pandas as pd\n",
    "import numpy as np"
   ]
  },
  {
   "cell_type": "code",
   "execution_count": 70,
   "id": "0e7a62b7",
   "metadata": {},
   "outputs": [
    {
     "name": "stdout",
     "output_type": "stream",
     "text": [
      "     AGE  FEMALE  LOS  RACE  APRDRG  TOTCHG\n",
      "0     17       1    2   1.0     560    2660\n",
      "1     17       0    2   1.0     753    1689\n",
      "2     17       1    7   1.0     930   20060\n",
      "3     17       1    1   1.0     758     736\n",
      "4     17       1    1   1.0     754    1194\n",
      "..   ...     ...  ...   ...     ...     ...\n",
      "495    0       1    6   1.0     636    5881\n",
      "496    0       1    2   1.0     640    1171\n",
      "497    0       1    2   1.0     640    1171\n",
      "498    0       1    2   1.0     640    1086\n",
      "499    0       0    4   1.0     640    4931\n",
      "\n",
      "[500 rows x 6 columns]\n"
     ]
    }
   ],
   "source": [
    "file =\"F:/abcdef/dataset.csv\"\n",
    "df = pd.read_csv(file)\n",
    "print(df)"
   ]
  },
  {
   "cell_type": "code",
   "execution_count": 71,
   "id": "f67a7448",
   "metadata": {},
   "outputs": [],
   "source": [
    "X = df[['AGE', 'FEMALE', 'LOS', 'RACE', 'APRDRG']]\n",
    "y = df['TOTCHG']"
   ]
  },
  {
   "cell_type": "code",
   "execution_count": 72,
   "id": "d1bf00dd",
   "metadata": {},
   "outputs": [
    {
     "data": {
      "text/html": [
       "<div>\n",
       "<style scoped>\n",
       "    .dataframe tbody tr th:only-of-type {\n",
       "        vertical-align: middle;\n",
       "    }\n",
       "\n",
       "    .dataframe tbody tr th {\n",
       "        vertical-align: top;\n",
       "    }\n",
       "\n",
       "    .dataframe thead th {\n",
       "        text-align: right;\n",
       "    }\n",
       "</style>\n",
       "<table border=\"1\" class=\"dataframe\">\n",
       "  <thead>\n",
       "    <tr style=\"text-align: right;\">\n",
       "      <th></th>\n",
       "      <th>AGE</th>\n",
       "      <th>FEMALE</th>\n",
       "      <th>LOS</th>\n",
       "      <th>RACE</th>\n",
       "      <th>APRDRG</th>\n",
       "    </tr>\n",
       "  </thead>\n",
       "  <tbody>\n",
       "    <tr>\n",
       "      <th>0</th>\n",
       "      <td>17</td>\n",
       "      <td>1</td>\n",
       "      <td>2</td>\n",
       "      <td>1.0</td>\n",
       "      <td>560</td>\n",
       "    </tr>\n",
       "    <tr>\n",
       "      <th>1</th>\n",
       "      <td>17</td>\n",
       "      <td>0</td>\n",
       "      <td>2</td>\n",
       "      <td>1.0</td>\n",
       "      <td>753</td>\n",
       "    </tr>\n",
       "    <tr>\n",
       "      <th>2</th>\n",
       "      <td>17</td>\n",
       "      <td>1</td>\n",
       "      <td>7</td>\n",
       "      <td>1.0</td>\n",
       "      <td>930</td>\n",
       "    </tr>\n",
       "    <tr>\n",
       "      <th>3</th>\n",
       "      <td>17</td>\n",
       "      <td>1</td>\n",
       "      <td>1</td>\n",
       "      <td>1.0</td>\n",
       "      <td>758</td>\n",
       "    </tr>\n",
       "    <tr>\n",
       "      <th>4</th>\n",
       "      <td>17</td>\n",
       "      <td>1</td>\n",
       "      <td>1</td>\n",
       "      <td>1.0</td>\n",
       "      <td>754</td>\n",
       "    </tr>\n",
       "    <tr>\n",
       "      <th>...</th>\n",
       "      <td>...</td>\n",
       "      <td>...</td>\n",
       "      <td>...</td>\n",
       "      <td>...</td>\n",
       "      <td>...</td>\n",
       "    </tr>\n",
       "    <tr>\n",
       "      <th>495</th>\n",
       "      <td>0</td>\n",
       "      <td>1</td>\n",
       "      <td>6</td>\n",
       "      <td>1.0</td>\n",
       "      <td>636</td>\n",
       "    </tr>\n",
       "    <tr>\n",
       "      <th>496</th>\n",
       "      <td>0</td>\n",
       "      <td>1</td>\n",
       "      <td>2</td>\n",
       "      <td>1.0</td>\n",
       "      <td>640</td>\n",
       "    </tr>\n",
       "    <tr>\n",
       "      <th>497</th>\n",
       "      <td>0</td>\n",
       "      <td>1</td>\n",
       "      <td>2</td>\n",
       "      <td>1.0</td>\n",
       "      <td>640</td>\n",
       "    </tr>\n",
       "    <tr>\n",
       "      <th>498</th>\n",
       "      <td>0</td>\n",
       "      <td>1</td>\n",
       "      <td>2</td>\n",
       "      <td>1.0</td>\n",
       "      <td>640</td>\n",
       "    </tr>\n",
       "    <tr>\n",
       "      <th>499</th>\n",
       "      <td>0</td>\n",
       "      <td>0</td>\n",
       "      <td>4</td>\n",
       "      <td>1.0</td>\n",
       "      <td>640</td>\n",
       "    </tr>\n",
       "  </tbody>\n",
       "</table>\n",
       "<p>500 rows × 5 columns</p>\n",
       "</div>"
      ],
      "text/plain": [
       "     AGE  FEMALE  LOS  RACE  APRDRG\n",
       "0     17       1    2   1.0     560\n",
       "1     17       0    2   1.0     753\n",
       "2     17       1    7   1.0     930\n",
       "3     17       1    1   1.0     758\n",
       "4     17       1    1   1.0     754\n",
       "..   ...     ...  ...   ...     ...\n",
       "495    0       1    6   1.0     636\n",
       "496    0       1    2   1.0     640\n",
       "497    0       1    2   1.0     640\n",
       "498    0       1    2   1.0     640\n",
       "499    0       0    4   1.0     640\n",
       "\n",
       "[500 rows x 5 columns]"
      ]
     },
     "execution_count": 72,
     "metadata": {},
     "output_type": "execute_result"
    }
   ],
   "source": [
    "X"
   ]
  },
  {
   "cell_type": "code",
   "execution_count": 73,
   "id": "b3319d3f",
   "metadata": {},
   "outputs": [
    {
     "data": {
      "text/plain": [
       "0       2660\n",
       "1       1689\n",
       "2      20060\n",
       "3        736\n",
       "4       1194\n",
       "       ...  \n",
       "495     5881\n",
       "496     1171\n",
       "497     1171\n",
       "498     1086\n",
       "499     4931\n",
       "Name: TOTCHG, Length: 500, dtype: int64"
      ]
     },
     "execution_count": 73,
     "metadata": {},
     "output_type": "execute_result"
    }
   ],
   "source": [
    "y"
   ]
  },
  {
   "cell_type": "code",
   "execution_count": 74,
   "id": "a68a7096",
   "metadata": {},
   "outputs": [],
   "source": [
    "from sklearn.preprocessing import StandardScaler\n",
    "\n",
    "scaler = StandardScaler()\n",
    "X_scaled = scaler.fit_transform(X)\n"
   ]
  },
  {
   "cell_type": "code",
   "execution_count": 75,
   "id": "6af2e829",
   "metadata": {},
   "outputs": [
    {
     "data": {
      "text/plain": [
       "array([[ 1.71609121,  0.97628121, -0.24641967, -0.15198702, -0.31638457],\n",
       "       [ 1.71609121, -1.02429504, -0.24641967, -0.15198702,  0.76704733],\n",
       "       [ 1.71609121,  0.97628121,  1.2416218 , -0.15198702,  1.76066104],\n",
       "       ...,\n",
       "       [-0.73258686,  0.97628121, -0.24641967, -0.15198702,  0.13270637],\n",
       "       [-0.73258686,  0.97628121, -0.24641967, -0.15198702,  0.13270637],\n",
       "       [-0.73258686, -1.02429504,  0.34879692, -0.15198702,  0.13270637]])"
      ]
     },
     "execution_count": 75,
     "metadata": {},
     "output_type": "execute_result"
    }
   ],
   "source": [
    "X_scaled"
   ]
  },
  {
   "cell_type": "code",
   "execution_count": 76,
   "id": "e123924f",
   "metadata": {},
   "outputs": [],
   "source": [
    "X=X_scaled"
   ]
  },
  {
   "cell_type": "code",
   "execution_count": 77,
   "id": "0d9672a1",
   "metadata": {},
   "outputs": [
    {
     "data": {
      "text/plain": [
       "array([[ 1.71609121,  0.97628121, -0.24641967, -0.15198702, -0.31638457],\n",
       "       [ 1.71609121, -1.02429504, -0.24641967, -0.15198702,  0.76704733],\n",
       "       [ 1.71609121,  0.97628121,  1.2416218 , -0.15198702,  1.76066104],\n",
       "       ...,\n",
       "       [-0.73258686,  0.97628121, -0.24641967, -0.15198702,  0.13270637],\n",
       "       [-0.73258686,  0.97628121, -0.24641967, -0.15198702,  0.13270637],\n",
       "       [-0.73258686, -1.02429504,  0.34879692, -0.15198702,  0.13270637]])"
      ]
     },
     "execution_count": 77,
     "metadata": {},
     "output_type": "execute_result"
    }
   ],
   "source": [
    "X"
   ]
  },
  {
   "cell_type": "code",
   "execution_count": 78,
   "id": "d85f99f7",
   "metadata": {},
   "outputs": [],
   "source": [
    "weights = np.zeros(X_scaled.shape[1])\n"
   ]
  },
  {
   "cell_type": "code",
   "execution_count": 79,
   "id": "7b28cb1d",
   "metadata": {},
   "outputs": [],
   "source": [
    "def linear_regression_gradient_descent(X, y, weights, learning_rate, iterations):\n",
    "    m = len(y)\n",
    "\n",
    "    for iteration in range(iterations):\n",
    "        y_pred = np.dot(X, weights)\n",
    "\n",
    "        # Compute gradients\n",
    "        d_weights = (2/m) * np.dot(X.T, (y_pred - y))\n",
    "        d_intercept = (2/m) * np.sum(y_pred - y)\n",
    "\n",
    "        # Update weights and intercept\n",
    "        weights -= learning_rate * d_weights\n",
    "        intercept = weights[0] - learning_rate * d_intercept  # Update the intercept separately\n",
    "        weights[0] = intercept  # Update the intercept in the weights array\n",
    "\n",
    "        # Optional: Print cost for monitoring training progress\n",
    "        cost = np.mean((y_pred - y)**2)\n",
    "        if iteration % 100 == 0:\n",
    "            print(f'Iteration {iteration}, Cost: {cost}')\n",
    "\n",
    "    return weights\n"
   ]
  },
  {
   "cell_type": "code",
   "execution_count": 80,
   "id": "4b9d9dba",
   "metadata": {},
   "outputs": [
    {
     "name": "stdout",
     "output_type": "stream",
     "text": [
      "Iteration 0, Cost: 22829687.903807614\n",
      "Iteration 100, Cost: nan\n",
      "Iteration 200, Cost: nan\n",
      "Iteration 300, Cost: nan\n",
      "Iteration 400, Cost: nan\n",
      "Iteration 500, Cost: nan\n",
      "Iteration 600, Cost: nan\n",
      "Iteration 700, Cost: nan\n",
      "Iteration 800, Cost: nan\n",
      "Iteration 900, Cost: nan\n",
      "Iteration 1000, Cost: nan\n",
      "Iteration 1100, Cost: nan\n",
      "Iteration 1200, Cost: nan\n",
      "Iteration 1300, Cost: nan\n",
      "Iteration 1400, Cost: nan\n",
      "Iteration 1500, Cost: nan\n",
      "Iteration 1600, Cost: nan\n",
      "Iteration 1700, Cost: nan\n",
      "Iteration 1800, Cost: nan\n",
      "Iteration 1900, Cost: nan\n",
      "Iteration 2000, Cost: nan\n",
      "Iteration 2100, Cost: nan\n",
      "Iteration 2200, Cost: nan\n",
      "Iteration 2300, Cost: nan\n",
      "Iteration 2400, Cost: nan\n",
      "Iteration 2500, Cost: nan\n",
      "Iteration 2600, Cost: nan\n",
      "Iteration 2700, Cost: nan\n",
      "Iteration 2800, Cost: nan\n",
      "Iteration 2900, Cost: nan\n",
      "Iteration 3000, Cost: nan\n",
      "Iteration 3100, Cost: nan\n",
      "Iteration 3200, Cost: nan\n",
      "Iteration 3300, Cost: nan\n",
      "Iteration 3400, Cost: nan\n",
      "Iteration 3500, Cost: nan\n",
      "Iteration 3600, Cost: nan\n",
      "Iteration 3700, Cost: nan\n",
      "Iteration 3800, Cost: nan\n",
      "Iteration 3900, Cost: nan\n",
      "Iteration 4000, Cost: nan\n",
      "Iteration 4100, Cost: nan\n",
      "Iteration 4200, Cost: nan\n",
      "Iteration 4300, Cost: nan\n",
      "Iteration 4400, Cost: nan\n",
      "Iteration 4500, Cost: nan\n",
      "Iteration 4600, Cost: nan\n",
      "Iteration 4700, Cost: nan\n",
      "Iteration 4800, Cost: nan\n",
      "Iteration 4900, Cost: nan\n"
     ]
    }
   ],
   "source": [
    "learning_rate = 1\n",
    "iterations = 5000\n",
    "trained_weights =  linear_regression_gradient_descent(X, y, weights, learning_rate, iterations)\n"
   ]
  },
  {
   "cell_type": "code",
   "execution_count": 83,
   "id": "30fa313e",
   "metadata": {},
   "outputs": [
    {
     "ename": "ValueError",
     "evalue": "shapes (2,6) and (5,) not aligned: 6 (dim 1) != 5 (dim 0)",
     "output_type": "error",
     "traceback": [
      "\u001b[1;31m---------------------------------------------------------------------------\u001b[0m",
      "\u001b[1;31mValueError\u001b[0m                                Traceback (most recent call last)",
      "Cell \u001b[1;32mIn[83], line 6\u001b[0m\n\u001b[0;32m      3\u001b[0m     \u001b[38;5;28;01mreturn\u001b[39;00m np\u001b[38;5;241m.\u001b[39mdot(X, weights)\n\u001b[0;32m      5\u001b[0m \u001b[38;5;66;03m# Example usage after training\u001b[39;00m\n\u001b[1;32m----> 6\u001b[0m y_pred \u001b[38;5;241m=\u001b[39m predict(X, trained_weights)\n",
      "Cell \u001b[1;32mIn[83], line 3\u001b[0m, in \u001b[0;36mpredict\u001b[1;34m(X, weights)\u001b[0m\n\u001b[0;32m      1\u001b[0m \u001b[38;5;28;01mdef\u001b[39;00m \u001b[38;5;21mpredict\u001b[39m(X, weights):\n\u001b[0;32m      2\u001b[0m     \u001b[38;5;66;03m# Assuming X includes the intercept term\u001b[39;00m\n\u001b[1;32m----> 3\u001b[0m     \u001b[38;5;28;01mreturn\u001b[39;00m np\u001b[38;5;241m.\u001b[39mdot(X, weights)\n",
      "File \u001b[1;32m<__array_function__ internals>:200\u001b[0m, in \u001b[0;36mdot\u001b[1;34m(*args, **kwargs)\u001b[0m\n",
      "\u001b[1;31mValueError\u001b[0m: shapes (2,6) and (5,) not aligned: 6 (dim 1) != 5 (dim 0)"
     ]
    }
   ],
   "source": [
    "def predict(X, weights):\n",
    "    # Assuming X includes the intercept term\n",
    "    return np.dot(X, weights)\n",
    "\n",
    "# Example usage after training\n",
    "y_pred = predict(X, trained_weights)\n"
   ]
  },
  {
   "cell_type": "code",
   "execution_count": 84,
   "id": "e611c6d2",
   "metadata": {},
   "outputs": [
    {
     "data": {
      "text/plain": [
       "array([nan, nan, nan, nan, nan, nan, nan, nan, nan, nan, nan, nan, nan,\n",
       "       nan, nan, nan, nan, nan, nan, nan, nan, nan, nan, nan, nan, nan,\n",
       "       nan, nan, nan, nan, nan, nan, nan, nan, nan, nan, nan, nan, nan,\n",
       "       nan, nan, nan, nan, nan, nan, nan, nan, nan, nan, nan, nan, nan,\n",
       "       nan, nan, nan, nan, nan, nan, nan, nan, nan, nan, nan, nan, nan,\n",
       "       nan, nan, nan, nan, nan, nan, nan, nan, nan, nan, nan, nan, nan,\n",
       "       nan, nan, nan, nan, nan, nan, nan, nan, nan, nan, nan, nan, nan,\n",
       "       nan, nan, nan, nan, nan, nan, nan, nan, nan, nan, nan, nan, nan,\n",
       "       nan, nan, nan, nan, nan, nan, nan, nan, nan, nan, nan, nan, nan,\n",
       "       nan, nan, nan, nan, nan, nan, nan, nan, nan, nan, nan, nan, nan,\n",
       "       nan, nan, nan, nan, nan, nan, nan, nan, nan, nan, nan, nan, nan,\n",
       "       nan, nan, nan, nan, nan, nan, nan, nan, nan, nan, nan, nan, nan,\n",
       "       nan, nan, nan, nan, nan, nan, nan, nan, nan, nan, nan, nan, nan,\n",
       "       nan, nan, nan, nan, nan, nan, nan, nan, nan, nan, nan, nan, nan,\n",
       "       nan, nan, nan, nan, nan, nan, nan, nan, nan, nan, nan, nan, nan,\n",
       "       nan, nan, nan, nan, nan, nan, nan, nan, nan, nan, nan, nan, nan,\n",
       "       nan, nan, nan, nan, nan, nan, nan, nan, nan, nan, nan, nan, nan,\n",
       "       nan, nan, nan, nan, nan, nan, nan, nan, nan, nan, nan, nan, nan,\n",
       "       nan, nan, nan, nan, nan, nan, nan, nan, nan, nan, nan, nan, nan,\n",
       "       nan, nan, nan, nan, nan, nan, nan, nan, nan, nan, nan, nan, nan,\n",
       "       nan, nan, nan, nan, nan, nan, nan, nan, nan, nan, nan, nan, nan,\n",
       "       nan, nan, nan, nan, nan, nan, nan, nan, nan, nan, nan, nan, nan,\n",
       "       nan, nan, nan, nan, nan, nan, nan, nan, nan, nan, nan, nan, nan,\n",
       "       nan, nan, nan, nan, nan, nan, nan, nan, nan, nan, nan, nan, nan,\n",
       "       nan, nan, nan, nan, nan, nan, nan, nan, nan, nan, nan, nan, nan,\n",
       "       nan, nan, nan, nan, nan, nan, nan, nan, nan, nan, nan, nan, nan,\n",
       "       nan, nan, nan, nan, nan, nan, nan, nan, nan, nan, nan, nan, nan,\n",
       "       nan, nan, nan, nan, nan, nan, nan, nan, nan, nan, nan, nan, nan,\n",
       "       nan, nan, nan, nan, nan, nan, nan, nan, nan, nan, nan, nan, nan,\n",
       "       nan, nan, nan, nan, nan, nan, nan, nan, nan, nan, nan, nan, nan,\n",
       "       nan, nan, nan, nan, nan, nan, nan, nan, nan, nan, nan, nan, nan,\n",
       "       nan, nan, nan, nan, nan, nan, nan, nan, nan, nan, nan, nan, nan,\n",
       "       nan, nan, nan, nan, nan, nan, nan, nan, nan, nan, nan, nan, nan,\n",
       "       nan, nan, nan, nan, nan, nan, nan, nan, nan, nan, nan, nan, nan,\n",
       "       nan, nan, nan, nan, nan, nan, nan, nan, nan, nan, nan, nan, nan,\n",
       "       nan, nan, nan, nan, nan, nan, nan, nan, nan, nan, nan, nan, nan,\n",
       "       nan, nan, nan, nan, nan, nan, nan, nan, nan, nan, nan, nan, nan,\n",
       "       nan, nan, nan, nan, nan, nan, nan, nan, nan, nan, nan, nan, nan,\n",
       "       nan, nan, nan, nan, nan, nan])"
      ]
     },
     "execution_count": 84,
     "metadata": {},
     "output_type": "execute_result"
    }
   ],
   "source": [
    "y_pred"
   ]
  },
  {
   "cell_type": "code",
   "execution_count": 85,
   "id": "2b966c72",
   "metadata": {},
   "outputs": [
    {
     "name": "stdout",
     "output_type": "stream",
     "text": [
      "Final Parameters: [nan nan nan nan nan nan]\n"
     ]
    },
    {
     "data": {
      "image/png": "[encoded data removed]",
      "text/plain": [
       "<Figure size 1000x600 with 1 Axes>"
      ]
     },
     "metadata": {},
     "output_type": "display_data"
    }
   ],
   "source": [
    "import numpy as np\n",
    "\n",
    "def normalize(X):\n",
    "    mean = np.mean(X, axis=0)\n",
    "    std = np.std(X, axis=0)\n",
    "    normalized_X = (X - mean) / std\n",
    "    return normalized_X, mean, std\n",
    "\n",
    "def add_intercept(X):\n",
    "    intercept = np.ones((X.shape[0], 1))\n",
    "    return np.concatenate((intercept, X), axis=1)\n",
    "\n",
    "def compute_cost(X, y, theta):\n",
    "    m = len(y)\n",
    "    h = np.dot(X, theta)\n",
    "    error = h - y\n",
    "    cost = (1 / (2 * m)) * np.sum(error**2)\n",
    "    return cost\n",
    "\n",
    "def gradient_descent(X, y, theta, learning_rate, iterations):\n",
    "    m = len(y)\n",
    "    cost_history = np.zeros(iterations)\n",
    "\n",
    "    for i in range(iterations):\n",
    "        h = np.dot(X, theta)\n",
    "        error = h - y\n",
    "        gradient = (1 / m) * np.dot(X.T, error)\n",
    "        theta -= learning_rate * gradient\n",
    "        cost_history[i] = compute_cost(X, y, theta)\n",
    "\n",
    "    return theta, cost_history\n",
    "\n",
    "\n",
    "\n",
    "\n",
    "\n",
    "\n",
    "# Initializations\n",
    "theta = np.zeros(X.shape[1])\n",
    "learning_rate = 0.01\n",
    "iterations = 1000\n",
    "\n",
    "# Run gradient descent\n",
    "theta, cost_history = gradient_descent(X, y, theta, learning_rate, iterations)\n",
    "\n",
    "# Print the final parameters\n",
    "print(\"Final Parameters:\", theta)\n",
    "\n",
    "# Optionally, you can plot the cost history to check if the algorithm is converging\n",
    "import matplotlib.pyplot as plt\n",
    "\n",
    "plt.plot(range(1, iterations + 1), cost_history, color='blue')\n",
    "plt.rcParams[\"figure.figsize\"] = (10, 6)\n",
    "plt.grid()\n",
    "plt.xlabel('Number of iterations')\n",
    "plt.ylabel('Cost (J)')\n",
    "plt.title('Convergence of gradient descent')\n",
    "plt.show()\n"
   ]
  },
  {
   "cell_type": "code",
   "execution_count": null,
   "id": "94f5e583",
   "metadata": {},
   "outputs": [],
   "source": []
  }
 ],
 "metadata": {
  "kernelspec": {
   "display_name": "Python 3 (ipykernel)",
   "language": "python",
   "name": "python3"
  },
  "language_info": {
   "codemirror_mode": {
    "name": "ipython",
    "version": 3
   },
   "file_extension": ".py",
   "mimetype": "text/x-python",
   "name": "python",
   "nbconvert_exporter": "python",
   "pygments_lexer": "ipython3",
   "version": "3.11.5"
  }
 },
 "nbformat": 4,
 "nbformat_minor": 5
}
