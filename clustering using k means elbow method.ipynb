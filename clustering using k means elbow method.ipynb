{
 "cells": [
  {
   "cell_type": "code",
   "execution_count": null,
   "id": "31dea1db",
   "metadata": {},
   "outputs": [],
   "source": [
    "import pandas as pd\n",
    "import numpy as np\n",
    "import matplotlib.pyplot as plt"
   ]
  },
  {
   "cell_type": "code",
   "execution_count": 2,
   "id": "946f5220",
   "metadata": {},
   "outputs": [
    {
     "name": "stdout",
     "output_type": "stream",
     "text": [
      "              Date Location  MinTemp  MaxTemp  Rainfall  Evaporation  \\\n",
      "0       01-12-2008   Albury     13.4     22.9       0.6          NaN   \n",
      "1       02-12-2008   Albury      7.4     25.1       0.0          NaN   \n",
      "2       03-12-2008   Albury     12.9     25.7       0.0          NaN   \n",
      "3       04-12-2008   Albury      9.2     28.0       0.0          NaN   \n",
      "4       05-12-2008   Albury     17.5     32.3       1.0          NaN   \n",
      "...            ...      ...      ...      ...       ...          ...   \n",
      "145455  21-06-2017    Uluru      2.8     23.4       0.0          NaN   \n",
      "145456  22-06-2017    Uluru      3.6     25.3       0.0          NaN   \n",
      "145457  23-06-2017    Uluru      5.4     26.9       0.0          NaN   \n",
      "145458  24-06-2017    Uluru      7.8     27.0       0.0          NaN   \n",
      "145459  25-06-2017    Uluru     14.9      NaN       0.0          NaN   \n",
      "\n",
      "        Sunshine WindGustDir  WindGustSpeed WindDir9am  ... Humidity9am  \\\n",
      "0            NaN           W           44.0          W  ...        71.0   \n",
      "1            NaN         WNW           44.0        NNW  ...        44.0   \n",
      "2            NaN         WSW           46.0          W  ...        38.0   \n",
      "3            NaN          NE           24.0         SE  ...        45.0   \n",
      "4            NaN           W           41.0        ENE  ...        82.0   \n",
      "...          ...         ...            ...        ...  ...         ...   \n",
      "145455       NaN           E           31.0         SE  ...        51.0   \n",
      "145456       NaN         NNW           22.0         SE  ...        56.0   \n",
      "145457       NaN           N           37.0         SE  ...        53.0   \n",
      "145458       NaN          SE           28.0        SSE  ...        51.0   \n",
      "145459       NaN         NaN            NaN        ESE  ...        62.0   \n",
      "\n",
      "        Humidity3pm  Pressure9am  Pressure3pm  Cloud9am  Cloud3pm  Temp9am  \\\n",
      "0              22.0       1007.7       1007.1       8.0       NaN     16.9   \n",
      "1              25.0       1010.6       1007.8       NaN       NaN     17.2   \n",
      "2              30.0       1007.6       1008.7       NaN       2.0     21.0   \n",
      "3              16.0       1017.6       1012.8       NaN       NaN     18.1   \n",
      "4              33.0       1010.8       1006.0       7.0       8.0     17.8   \n",
      "...             ...          ...          ...       ...       ...      ...   \n",
      "145455         24.0       1024.6       1020.3       NaN       NaN     10.1   \n",
      "145456         21.0       1023.5       1019.1       NaN       NaN     10.9   \n",
      "145457         24.0       1021.0       1016.8       NaN       NaN     12.5   \n",
      "145458         24.0       1019.4       1016.5       3.0       2.0     15.1   \n",
      "145459         36.0       1020.2       1017.9       8.0       8.0     15.0   \n",
      "\n",
      "        Temp3pm  RainToday  RainTomorrow  \n",
      "0          21.8         No            No  \n",
      "1          24.3         No            No  \n",
      "2          23.2         No            No  \n",
      "3          26.5         No            No  \n",
      "4          29.7         No            No  \n",
      "...         ...        ...           ...  \n",
      "145455     22.4         No            No  \n",
      "145456     24.5         No            No  \n",
      "145457     26.1         No            No  \n",
      "145458     26.0         No            No  \n",
      "145459     20.9         No           NaN  \n",
      "\n",
      "[145460 rows x 23 columns]\n"
     ]
    }
   ],
   "source": [
    "file =\"F:/xyz/dataset.csv\"\n",
    "df = pd.read_csv(file)\n",
    "print(df)"
   ]
  },
  {
   "cell_type": "code",
   "execution_count": 3,
   "id": "eeaaf57c",
   "metadata": {},
   "outputs": [],
   "source": [
    "# Drop rows with missing values\n",
    "df = df.dropna()\n"
   ]
  },
  {
   "cell_type": "code",
   "execution_count": 4,
   "id": "c1aefce0",
   "metadata": {},
   "outputs": [],
   "source": [
    "df = pd.get_dummies(df, columns=['WindGustDir', 'WindDir9am', 'WindDir3pm', 'RainToday', 'RainTomorrow'], drop_first=True)"
   ]
  },
  {
   "cell_type": "code",
   "execution_count": 5,
   "id": "3fcb9493",
   "metadata": {},
   "outputs": [
    {
     "name": "stdout",
     "output_type": "stream",
     "text": [
      "              Date  Location  MinTemp  MaxTemp  Rainfall  Evaporation  \\\n",
      "6049    01-01-2009         4     17.9     35.2       0.0         12.0   \n",
      "6050    02-01-2009         4     18.4     28.9       0.0         14.8   \n",
      "6052    04-01-2009         4     19.4     37.6       0.0         10.8   \n",
      "6053    05-01-2009         4     21.9     38.4       0.0         11.4   \n",
      "6054    06-01-2009         4     24.2     41.0       0.0         11.2   \n",
      "...            ...       ...      ...      ...       ...          ...   \n",
      "142298  20-06-2017         6     19.3     33.4       0.0          6.0   \n",
      "142299  21-06-2017         6     21.2     32.6       0.0          7.6   \n",
      "142300  22-06-2017         6     20.7     32.8       0.0          5.6   \n",
      "142301  23-06-2017         6     19.5     31.8       0.0          6.2   \n",
      "142302  24-06-2017         6     20.2     31.7       0.0          5.6   \n",
      "\n",
      "        Sunshine  WindGustSpeed  WindSpeed9am  WindSpeed3pm  ...  \\\n",
      "6049        12.3           48.0           6.0          20.0  ...   \n",
      "6050        13.0           37.0          19.0          19.0  ...   \n",
      "6052        10.6           46.0          30.0          15.0  ...   \n",
      "6053        12.2           31.0           6.0           6.0  ...   \n",
      "6054         8.4           35.0          17.0          13.0  ...   \n",
      "...          ...            ...           ...           ...  ...   \n",
      "142298      11.0           35.0           9.0          20.0  ...   \n",
      "142299       8.6           37.0          13.0          11.0  ...   \n",
      "142300      11.0           33.0          17.0          11.0  ...   \n",
      "142301      10.6           26.0           9.0          17.0  ...   \n",
      "142302      10.7           30.0          15.0           7.0  ...   \n",
      "\n",
      "        WindDir3pm_S  WindDir3pm_SE  WindDir3pm_SSE  WindDir3pm_SSW  \\\n",
      "6049           False          False           False           False   \n",
      "6050           False          False            True           False   \n",
      "6052           False          False           False           False   \n",
      "6053           False          False           False           False   \n",
      "6054           False          False           False           False   \n",
      "...              ...            ...             ...             ...   \n",
      "142298         False          False           False           False   \n",
      "142299         False           True           False           False   \n",
      "142300         False          False           False           False   \n",
      "142301         False          False           False           False   \n",
      "142302         False          False           False           False   \n",
      "\n",
      "        WindDir3pm_SW  WindDir3pm_W  WindDir3pm_WNW  WindDir3pm_WSW  \\\n",
      "6049             True         False           False           False   \n",
      "6050            False         False           False           False   \n",
      "6052            False         False           False           False   \n",
      "6053            False         False           False            True   \n",
      "6054            False         False            True           False   \n",
      "...               ...           ...             ...             ...   \n",
      "142298          False         False           False           False   \n",
      "142299          False         False           False           False   \n",
      "142300          False          True           False           False   \n",
      "142301          False         False           False           False   \n",
      "142302          False         False           False           False   \n",
      "\n",
      "        RainToday_Yes  RainTomorrow_Yes  \n",
      "6049            False             False  \n",
      "6050            False             False  \n",
      "6052            False             False  \n",
      "6053            False             False  \n",
      "6054            False             False  \n",
      "...               ...               ...  \n",
      "142298          False             False  \n",
      "142299          False             False  \n",
      "142300          False             False  \n",
      "142301          False             False  \n",
      "142302          False             False  \n",
      "\n",
      "[56420 rows x 65 columns]\n"
     ]
    }
   ],
   "source": [
    "from sklearn.preprocessing import LabelEncoder\n",
    "\n",
    "# Assuming 'df' is your DataFrame and 'Location' is the column to be encoded\n",
    "le = LabelEncoder()\n",
    "df['Location'] = le.fit_transform(df['Location'])\n",
    "print(df)"
   ]
  },
  {
   "cell_type": "code",
   "execution_count": 6,
   "id": "3632f9ff",
   "metadata": {},
   "outputs": [],
   "source": [
    "x= df.iloc[:,1 :-1]"
   ]
  },
  {
   "cell_type": "code",
   "execution_count": 7,
   "id": "c90df8a4",
   "metadata": {},
   "outputs": [],
   "source": [
    "y = df.iloc[:, -1] "
   ]
  },
  {
   "cell_type": "code",
   "execution_count": 8,
   "id": "782da9e1",
   "metadata": {},
   "outputs": [],
   "source": [
    "from sklearn.preprocessing import StandardScaler\n",
    "\n",
    "scaler = StandardScaler()\n",
    "x_scaled = scaler.fit_transform(x)\n"
   ]
  },
  {
   "cell_type": "code",
   "execution_count": 9,
   "id": "01d26ed1",
   "metadata": {},
   "outputs": [],
   "source": [
    "x=x_scaled"
   ]
  },
  {
   "cell_type": "code",
   "execution_count": 10,
   "id": "641ff5dc",
   "metadata": {},
   "outputs": [
    {
     "data": {
      "text/plain": [
       "array([[-1.18184371,  0.69120848,  1.57529783, ..., -0.24520965,\n",
       "        -0.27084717, -0.53244519],\n",
       "       [-1.18184371,  0.76913098,  0.67150378, ..., -0.24520965,\n",
       "        -0.27084717, -0.53244519],\n",
       "       [-1.18184371,  0.92497598,  1.91960032, ..., -0.24520965,\n",
       "        -0.27084717, -0.53244519],\n",
       "       ...,\n",
       "       [-0.90791487,  1.12757448,  1.23099533, ..., -0.24520965,\n",
       "        -0.27084717, -0.53244519],\n",
       "       [-0.90791487,  0.94056048,  1.08753596, ..., -0.24520965,\n",
       "        -0.27084717, -0.53244519],\n",
       "       [-0.90791487,  1.04965198,  1.07319002, ..., -0.24520965,\n",
       "        -0.27084717, -0.53244519]])"
      ]
     },
     "execution_count": 10,
     "metadata": {},
     "output_type": "execute_result"
    }
   ],
   "source": [
    "x"
   ]
  },
  {
   "cell_type": "code",
   "execution_count": 11,
   "id": "229b18b1",
   "metadata": {},
   "outputs": [
    {
     "name": "stderr",
     "output_type": "stream",
     "text": [
      "C:\\Users\\Om Prakash\\anaconda3\\Lib\\site-packages\\sklearn\\cluster\\_kmeans.py:1412: FutureWarning: The default value of `n_init` will change from 10 to 'auto' in 1.4. Set the value of `n_init` explicitly to suppress the warning\n",
      "  super()._check_params_vs_input(X, default_n_init=10)\n",
      "C:\\Users\\Om Prakash\\anaconda3\\Lib\\site-packages\\sklearn\\cluster\\_kmeans.py:1412: FutureWarning: The default value of `n_init` will change from 10 to 'auto' in 1.4. Set the value of `n_init` explicitly to suppress the warning\n",
      "  super()._check_params_vs_input(X, default_n_init=10)\n",
      "C:\\Users\\Om Prakash\\anaconda3\\Lib\\site-packages\\sklearn\\cluster\\_kmeans.py:1412: FutureWarning: The default value of `n_init` will change from 10 to 'auto' in 1.4. Set the value of `n_init` explicitly to suppress the warning\n",
      "  super()._check_params_vs_input(X, default_n_init=10)\n",
      "C:\\Users\\Om Prakash\\anaconda3\\Lib\\site-packages\\sklearn\\cluster\\_kmeans.py:1412: FutureWarning: The default value of `n_init` will change from 10 to 'auto' in 1.4. Set the value of `n_init` explicitly to suppress the warning\n",
      "  super()._check_params_vs_input(X, default_n_init=10)\n",
      "C:\\Users\\Om Prakash\\anaconda3\\Lib\\site-packages\\sklearn\\cluster\\_kmeans.py:1412: FutureWarning: The default value of `n_init` will change from 10 to 'auto' in 1.4. Set the value of `n_init` explicitly to suppress the warning\n",
      "  super()._check_params_vs_input(X, default_n_init=10)\n",
      "C:\\Users\\Om Prakash\\anaconda3\\Lib\\site-packages\\sklearn\\cluster\\_kmeans.py:1412: FutureWarning: The default value of `n_init` will change from 10 to 'auto' in 1.4. Set the value of `n_init` explicitly to suppress the warning\n",
      "  super()._check_params_vs_input(X, default_n_init=10)\n",
      "C:\\Users\\Om Prakash\\anaconda3\\Lib\\site-packages\\sklearn\\cluster\\_kmeans.py:1412: FutureWarning: The default value of `n_init` will change from 10 to 'auto' in 1.4. Set the value of `n_init` explicitly to suppress the warning\n",
      "  super()._check_params_vs_input(X, default_n_init=10)\n",
      "C:\\Users\\Om Prakash\\anaconda3\\Lib\\site-packages\\sklearn\\cluster\\_kmeans.py:1412: FutureWarning: The default value of `n_init` will change from 10 to 'auto' in 1.4. Set the value of `n_init` explicitly to suppress the warning\n",
      "  super()._check_params_vs_input(X, default_n_init=10)\n",
      "C:\\Users\\Om Prakash\\anaconda3\\Lib\\site-packages\\sklearn\\cluster\\_kmeans.py:1412: FutureWarning: The default value of `n_init` will change from 10 to 'auto' in 1.4. Set the value of `n_init` explicitly to suppress the warning\n",
      "  super()._check_params_vs_input(X, default_n_init=10)\n",
      "C:\\Users\\Om Prakash\\anaconda3\\Lib\\site-packages\\sklearn\\cluster\\_kmeans.py:1412: FutureWarning: The default value of `n_init` will change from 10 to 'auto' in 1.4. Set the value of `n_init` explicitly to suppress the warning\n",
      "  super()._check_params_vs_input(X, default_n_init=10)\n"
     ]
    },
    {
     "data": {
      "image/png": "[encoded data removed]",
      "text/plain": [
       "<Figure size 800x600 with 1 Axes>"
      ]
     },
     "metadata": {},
     "output_type": "display_data"
    }
   ],
   "source": [
    "import numpy as np\n",
    "import matplotlib.pyplot as plt\n",
    "from sklearn.cluster import KMeans\n",
    "from sklearn.datasets import make_blobs\n",
    "\n",
    "# Assuming X is your feature data\n",
    "# X, _ = load_your_data_function()\n",
    "\n",
    "# Calculate the sum of squared distances for different values of k\n",
    "sse = []\n",
    "for k in range(1, 11):\n",
    "    kmeans = KMeans(n_clusters=k, random_state=42)\n",
    "    kmeans.fit(x)  # Fit the model with your feature data X\n",
    "    sse.append(kmeans.inertia_)\n",
    "\n",
    "# Plot the elbow graph\n",
    "plt.figure(figsize=(8, 6))\n",
    "plt.plot(range(1, 11), sse, marker='o', linestyle='-', color='b')\n",
    "plt.title('Elbow Method for Optimal k')\n",
    "plt.xlabel('Number of Clusters (k)')\n",
    "plt.ylabel('Sum of Squared Distances (SSE)')\n",
    "plt.grid(True)\n",
    "plt.show()\n"
   ]
  },
  {
   "cell_type": "code",
   "execution_count": null,
   "id": "ccfe3bf6",
   "metadata": {},
   "outputs": [],
   "source": []
  },
  {
   "cell_type": "code",
   "execution_count": null,
   "id": "ad0a9796",
   "metadata": {},
   "outputs": [],
   "source": []
  },
  {
   "cell_type": "code",
   "execution_count": null,
   "id": "618c0d4f",
   "metadata": {},
   "outputs": [],
   "source": []
  }
 ],
 "metadata": {
  "kernelspec": {
   "display_name": "Python 3 (ipykernel)",
   "language": "python",
   "name": "python3"
  },
  "language_info": {
   "codemirror_mode": {
    "name": "ipython",
    "version": 3
   },
   "file_extension": ".py",
   "mimetype": "text/x-python",
   "name": "python",
   "nbconvert_exporter": "python",
   "pygments_lexer": "ipython3",
   "version": "3.11.5"
  }
 },
 "nbformat": 4,
 "nbformat_minor": 5
}
