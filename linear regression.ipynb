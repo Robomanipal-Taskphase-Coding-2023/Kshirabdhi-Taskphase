{
 "cells": [
  {
   "cell_type": "code",
   "execution_count": 2,
   "id": "af759e7e",
   "metadata": {},
   "outputs": [],
   "source": [
    "import pandas as pd\n",
    "import numpy as np\n",
    "import matplotlib"
   ]
  },
  {
   "cell_type": "code",
   "execution_count": 3,
   "id": "8bd7e5fb",
   "metadata": {},
   "outputs": [
    {
     "name": "stdout",
     "output_type": "stream",
     "text": [
      "     AGE  FEMALE  LOS  RACE  APRDRG  TOTCHG\n",
      "0     17       1    2   1.0     560    2660\n",
      "1     17       0    2   1.0     753    1689\n",
      "2     17       1    7   1.0     930   20060\n",
      "3     17       1    1   1.0     758     736\n",
      "4     17       1    1   1.0     754    1194\n",
      "..   ...     ...  ...   ...     ...     ...\n",
      "495    0       1    6   1.0     636    5881\n",
      "496    0       1    2   1.0     640    1171\n",
      "497    0       1    2   1.0     640    1171\n",
      "498    0       1    2   1.0     640    1086\n",
      "499    0       0    4   1.0     640    4931\n",
      "\n",
      "[500 rows x 6 columns]\n"
     ]
    }
   ],
   "source": [
    "file =\"F:/abcdef/dataset.csv\"\n",
    "df = pd.read_csv(file)\n",
    "print(df)"
   ]
  },
  {
   "cell_type": "code",
   "execution_count": 16,
   "id": "801cde19",
   "metadata": {},
   "outputs": [
    {
     "data": {
      "text/plain": [
       "<Axes: xlabel='AGE', ylabel='TOTCHG'>"
      ]
     },
     "execution_count": 16,
     "metadata": {},
     "output_type": "execute_result"
    },
    {
     "data": {
      "image/png": "[encoded data removed]",
      "text/plain": [
       "<Figure size 640x480 with 1 Axes>"
      ]
     },
     "metadata": {},
     "output_type": "display_data"
    }
   ],
   "source": [
    "from matplotlib import pyplot as plt\n",
    "df.plot(x=\"AGE\", y=\"TOTCHG\", kind=\"scatter\",color=\"green\")"
   ]
  },
  {
   "cell_type": "code",
   "execution_count": 5,
   "id": "32079ee7",
   "metadata": {},
   "outputs": [],
   "source": [
    "from matplotlib import pyplot as plt\n",
    "plt.show()"
   ]
  },
  {
   "cell_type": "code",
   "execution_count": 6,
   "id": "10c7baec",
   "metadata": {},
   "outputs": [],
   "source": [
    "from sklearn.model_selection import train_test_split"
   ]
  },
  {
   "cell_type": "code",
   "execution_count": 7,
   "id": "cede0bac",
   "metadata": {},
   "outputs": [],
   "source": [
    "#x = df.iloc[:,0:-1]\n",
    "x= df.drop('TOTCHG',axis=1)\n",
    "y = df.iloc[:,-1].values"
   ]
  },
  {
   "cell_type": "code",
   "execution_count": 8,
   "id": "a0e6b370",
   "metadata": {},
   "outputs": [
    {
     "data": {
      "text/html": [
       "<div>\n",
       "<style scoped>\n",
       "    .dataframe tbody tr th:only-of-type {\n",
       "        vertical-align: middle;\n",
       "    }\n",
       "\n",
       "    .dataframe tbody tr th {\n",
       "        vertical-align: top;\n",
       "    }\n",
       "\n",
       "    .dataframe thead th {\n",
       "        text-align: right;\n",
       "    }\n",
       "</style>\n",
       "<table border=\"1\" class=\"dataframe\">\n",
       "  <thead>\n",
       "    <tr style=\"text-align: right;\">\n",
       "      <th></th>\n",
       "      <th>AGE</th>\n",
       "      <th>FEMALE</th>\n",
       "      <th>LOS</th>\n",
       "      <th>RACE</th>\n",
       "      <th>APRDRG</th>\n",
       "    </tr>\n",
       "  </thead>\n",
       "  <tbody>\n",
       "    <tr>\n",
       "      <th>0</th>\n",
       "      <td>17</td>\n",
       "      <td>1</td>\n",
       "      <td>2</td>\n",
       "      <td>1.0</td>\n",
       "      <td>560</td>\n",
       "    </tr>\n",
       "    <tr>\n",
       "      <th>1</th>\n",
       "      <td>17</td>\n",
       "      <td>0</td>\n",
       "      <td>2</td>\n",
       "      <td>1.0</td>\n",
       "      <td>753</td>\n",
       "    </tr>\n",
       "    <tr>\n",
       "      <th>2</th>\n",
       "      <td>17</td>\n",
       "      <td>1</td>\n",
       "      <td>7</td>\n",
       "      <td>1.0</td>\n",
       "      <td>930</td>\n",
       "    </tr>\n",
       "    <tr>\n",
       "      <th>3</th>\n",
       "      <td>17</td>\n",
       "      <td>1</td>\n",
       "      <td>1</td>\n",
       "      <td>1.0</td>\n",
       "      <td>758</td>\n",
       "    </tr>\n",
       "    <tr>\n",
       "      <th>4</th>\n",
       "      <td>17</td>\n",
       "      <td>1</td>\n",
       "      <td>1</td>\n",
       "      <td>1.0</td>\n",
       "      <td>754</td>\n",
       "    </tr>\n",
       "    <tr>\n",
       "      <th>...</th>\n",
       "      <td>...</td>\n",
       "      <td>...</td>\n",
       "      <td>...</td>\n",
       "      <td>...</td>\n",
       "      <td>...</td>\n",
       "    </tr>\n",
       "    <tr>\n",
       "      <th>495</th>\n",
       "      <td>0</td>\n",
       "      <td>1</td>\n",
       "      <td>6</td>\n",
       "      <td>1.0</td>\n",
       "      <td>636</td>\n",
       "    </tr>\n",
       "    <tr>\n",
       "      <th>496</th>\n",
       "      <td>0</td>\n",
       "      <td>1</td>\n",
       "      <td>2</td>\n",
       "      <td>1.0</td>\n",
       "      <td>640</td>\n",
       "    </tr>\n",
       "    <tr>\n",
       "      <th>497</th>\n",
       "      <td>0</td>\n",
       "      <td>1</td>\n",
       "      <td>2</td>\n",
       "      <td>1.0</td>\n",
       "      <td>640</td>\n",
       "    </tr>\n",
       "    <tr>\n",
       "      <th>498</th>\n",
       "      <td>0</td>\n",
       "      <td>1</td>\n",
       "      <td>2</td>\n",
       "      <td>1.0</td>\n",
       "      <td>640</td>\n",
       "    </tr>\n",
       "    <tr>\n",
       "      <th>499</th>\n",
       "      <td>0</td>\n",
       "      <td>0</td>\n",
       "      <td>4</td>\n",
       "      <td>1.0</td>\n",
       "      <td>640</td>\n",
       "    </tr>\n",
       "  </tbody>\n",
       "</table>\n",
       "<p>500 rows × 5 columns</p>\n",
       "</div>"
      ],
      "text/plain": [
       "     AGE  FEMALE  LOS  RACE  APRDRG\n",
       "0     17       1    2   1.0     560\n",
       "1     17       0    2   1.0     753\n",
       "2     17       1    7   1.0     930\n",
       "3     17       1    1   1.0     758\n",
       "4     17       1    1   1.0     754\n",
       "..   ...     ...  ...   ...     ...\n",
       "495    0       1    6   1.0     636\n",
       "496    0       1    2   1.0     640\n",
       "497    0       1    2   1.0     640\n",
       "498    0       1    2   1.0     640\n",
       "499    0       0    4   1.0     640\n",
       "\n",
       "[500 rows x 5 columns]"
      ]
     },
     "execution_count": 8,
     "metadata": {},
     "output_type": "execute_result"
    }
   ],
   "source": [
    "x"
   ]
  },
  {
   "cell_type": "code",
   "execution_count": 9,
   "id": "095d97a8",
   "metadata": {},
   "outputs": [
    {
     "data": {
      "text/plain": [
       "array([ 2660,  1689, 20060,   736,  1194,  3305,  2205,  1167,   532,\n",
       "        1363,  1245,  1656,  1379,  2346,  4006,  2181,   628,  2463,\n",
       "        1956,  1802,  3188,  2129,  7421,  1122,  1173,  3625,  3908,\n",
       "        3994,  1033,  2860,  3814,  1132,  1163,   610,  9530,  1268,\n",
       "        2582,  1287,  6594,   909,  2530,  1534, 14243,  1699,  7298,\n",
       "         636,   626,  3782,  1444,  1183,  3045,  3624,  6810,  1409,\n",
       "        1211,  9606,  1411,   607,  2932,  5075,   762,  6329,  1226,\n",
       "        8223,  1193,  1076, 17434,  1647,  3865,   628,   806, 29188,\n",
       "        4717, 15129,  1085,  1607,  1499,  7648,  1527,  1483,  2844,\n",
       "        3124,  1760,  1278,  1620,  1220,  1134,  1235,  1656,  4072,\n",
       "        1393,   615,   779,  1385,  1224,  1779,  1526,   882,  2075,\n",
       "       12042,  1309,  1290,  1280,  1719,  1102,  1543,  1174,  1105,\n",
       "        1335,  1550,  2473,  1322,  2553,  2835,  1191,  1439,  1237,\n",
       "        1265,  2280,  1096,  1156,  1199,  5615,  2518,   625,  1246,\n",
       "        1821,  3101,  1293,  1176,  1891, 10584,  2373,   935,  1395,\n",
       "        1561,  6912,  1157,  2197,  2288,  2348,  1320,  1139,  2134,\n",
       "        1407,  1982,  2539,  1528,  1513,  1191,  1280,  3977,  1269,\n",
       "        1501,  1396,  1777,   833,   715,  2936,  1375,  1330,  1628,\n",
       "        1368,   622, 14174,  6425,  8084,  6762, 26356,  1305,  1416,\n",
       "         877,   622,  2082,  1096,  2028,  1104,  1093,  2592,  1125,\n",
       "        3609,  2118,  1805,  2825,  1299,  1413,  2354,   622,  1214,\n",
       "         887,  1843,  1275,  2090,  1111,  3102,   743,  1505,  1277,\n",
       "        1096,  1828,  1581,   607,  1128,  1976,  4227,  3315,  2144,\n",
       "        1283,  1302,  1725,  2847,  1947,  7923,  1669,  1669,   707,\n",
       "        1404,  1272,   888,  1161,  2112,  1286,  1454,   874,  1753,\n",
       "        2129,  2149,  1749,  1317,  1281,   607,  2330,  5014,  2029,\n",
       "        1530,  2220,  1267,  2057,  1351, 10649,  2777,  1915,  1420,\n",
       "        1337, 20195,  1096,  2187,  3023,  1748,  1141,  1795,  1436,\n",
       "        1156,  2195,  1263,  1324,  8159,  1874,  1538,  3257,  1576,\n",
       "        8631,  1173,  2401,  2516,  1446,  1807,  1307,  1096,  1395,\n",
       "        1739,  1298,   921,  8184,  2051,  1743,  1156,  1491,  1286,\n",
       "        1772,  1437,  2724,  1291,  1211,  1096,  1280,   735,  1280,\n",
       "        1383,  1660,  1458,  1427,  1217,  1096,  1099,  2711,  1099,\n",
       "         871,  1418,  2936,  2543,  4833,  2570, 10002,  1385,  6692,\n",
       "         783,  2255, 12024,  2089,   627,  1321,   763,  1688,  1760,\n",
       "        1306,  3674,  1348,   622,   767,  1178,   869, 17524,   625,\n",
       "        3588,  2925, 10562,  1436,  9230, 10756, 11685,  1711, 48388,\n",
       "         851,   634,  3656,   616,  1688, 16520,  1786,   972,  2117,\n",
       "        8050,  9932,  1422,  1381,  2877,  2805,  4412, 11125,  1818,\n",
       "        4296,  1887,  1418,  1136,  1475,  1099,  1538,  1651,  1106,\n",
       "        1097,  1273,  1362,  3342, 11877,   547,  5568,  4288,  5788,\n",
       "        2238,  1283,  2531, 13112,  3497,  1832,  1685,  1135,  1156,\n",
       "         548,  1303,  1890,  1285,  1674,  1128,  2595,  1782,  1251,\n",
       "        1997,   532,  1758,  1369,  1096,  1477,   840,  1340,  1236,\n",
       "        4677,  3285, 10585,  1808,  1051,  2201,  3041,   550,  1156,\n",
       "        3800,  1039,  1769,  1794,  1578,  1153,  1883,  1535,  1200,\n",
       "        1946,  1875,  1908,  2080,  1408,  2008,  2977,  1278,  1408,\n",
       "        1083,  1964,  1231,  1845,  1428,  2735,  5934,  1888,  1431,\n",
       "        9129,   651,  3969,  1363,  1118,  1543,   678,  1463,  8439,\n",
       "        4304,  1890,  1933,  1281,  1160,  1120,  1164,  1083,  1465,\n",
       "        1083,  1768,  2296,  1284,  2632,  1952,  2100,  2217,  1281,\n",
       "        1250,  8398,  1263,  1178, 13040,  1517,  3126,  2049,  1245,\n",
       "        3578,  1603,  2840,  1411,  1175,  1689,  2023,  1310,  2540,\n",
       "       10431,  2204,  2218,  1382,  1115,   629,   825,  1701,  1273,\n",
       "        1270,  1106,  1065,  1264,  1282,  1393,  3074,  1266,  1886,\n",
       "        5881,  1171,  1171,  1086,  4931], dtype=int64)"
      ]
     },
     "execution_count": 9,
     "metadata": {},
     "output_type": "execute_result"
    }
   ],
   "source": [
    "y"
   ]
  },
  {
   "cell_type": "code",
   "execution_count": 22,
   "id": "3223daae",
   "metadata": {},
   "outputs": [],
   "source": [
    "x_train,x_test,y_train,y_test=train_test_split(x,y,test_size=0.2,random_state=3)\n",
    "\n"
   ]
  },
  {
   "cell_type": "code",
   "execution_count": 23,
   "id": "70c1b09e",
   "metadata": {},
   "outputs": [
    {
     "name": "stdout",
     "output_type": "stream",
     "text": [
      "     AGE  FEMALE  LOS  RACE  APRDRG\n",
      "280    0       0    2   1.0     640\n",
      "190    0       1    3   1.0     640\n",
      "103    0       0    3   1.0     640\n",
      "201   15       0    0   1.0     754\n",
      "402    0       1    4   3.0     626\n",
      "..   ...     ...  ...   ...     ...\n",
      "440   17       0    3   1.0     204\n",
      "131    5       1    2   1.0      53\n",
      "249    0       1    2   1.0     640\n",
      "152    0       1    2   1.0     640\n",
      "362    0       1    2   1.0     640\n",
      "\n",
      "[400 rows x 5 columns]\n"
     ]
    }
   ],
   "source": [
    "print(x_train)"
   ]
  },
  {
   "cell_type": "code",
   "execution_count": 24,
   "id": "08dc9eb3",
   "metadata": {},
   "outputs": [
    {
     "name": "stdout",
     "output_type": "stream",
     "text": [
      "[ 1437  1843  1719   607  3041  2354  1753  1369 20195   627  1278 14174\n",
      "  4304  1157  6329  1669  8050  3101  2238  5075  1277  1543  1245  9606\n",
      "  1768  2029  1411  1651  1628  1656  1099  1173  1191  4677  1132  1786\n",
      "  1263  1280  1463  6692  1418  3257  1933  9230  1293 13040  2518   851\n",
      "  8184  1171  2075  2201  2296  8084   888   607  2539  3969  4296  3285\n",
      "  1281  1428   783  1465  1335  1436   736  1477  1413  1760  1535  1409\n",
      "  1283  1620  1431  1106  1739  1231  1381  1085  1281  1769  1286  1348\n",
      "  1122  1291  1396  2129  2724  1250  9932  3045  6594  1111  1096  1214\n",
      "  1273  3305  1607  1139  3782   626   806  1171  1483  3814  1656  3578\n",
      "  1310  1120  1136  1439  3625   743  1298  1076  1576   636  1748  1065\n",
      "  2204  1083  2049   825  3865  2129  7648  1285  1890  1340  1772  2932\n",
      "  1246  1317 14243  1194  1199 26356  2348   767  1193 10562  1550  1952\n",
      "  2280  3315  1883  1393 10002  2205  3126  1395  1956  1908  2057  8631\n",
      "  1175  4833  5615  1527   840  3977   735   622  2632  1446  2531  1689\n",
      "  2134  1236  1418  1828  1534  1383 48388  2330  1096  1135  1408  1760\n",
      "  2401  2860  1351  1795  1368  1191  1156  3497  1224  1266  1286  1220\n",
      "   622  4072  1178  9530  1272  4717  2112  1385  1832  1517  1379  1096\n",
      "  1669  1543  1530  2080  2805  1758  1526  2925   871  8223  1454  1779\n",
      "  2346  2463  1273  2187  1997  1283  1393  2255 10756  1106   909  1134\n",
      "  2118  1888  1982  2936  1156   547  5568 11125  1581  1217 29188  1845\n",
      "  1946  4931  1096  2540  1263  1251   935   762  1115 10431  1309  1802\n",
      "  1411  8398  2516  1156   532  2089  1211  2840   779  1156  1163  1561\n",
      "  7421  1226   629   707  1578  2008  1874  6810  1153  2082  1268  2592\n",
      "  6762  2149  1156  1743  7298  2543  3588  1499  1302  5788  7923  1307\n",
      "  1321  1404   651  1363   550  1278  1280  2711  1102   763  9129  3074\n",
      "   615  1805  1306  1284   622  5014  1245  2582   833 20060  1420 12024\n",
      "  1660  1444  1320   874  1887  2825  1711  5881  2218  1330   616  1051\n",
      "  1161 12042  1890  2220  1281  1265  2117  1689  2835  1886  1096  2195\n",
      "   678  1299  6425 13112  2051  2090  2660  1211  1685  1033  2144  1128\n",
      "  1270  1183  1818  3188  1096  1104  3656  1303   610   877  1167   622\n",
      "  1086  1174  1200   882  2473  1097   628  2877  1363  1176  3674  1164\n",
      "  1538 17524  1280  2023  1688  3908 10585  1083  1385  2735  1513  1382\n",
      "  1408  1096  3800  2197  1305  3342  1128  1528  1491  8159  2100  8439\n",
      " 10584  1141  1269  1362]\n"
     ]
    }
   ],
   "source": [
    "print(y_train)"
   ]
  },
  {
   "cell_type": "code",
   "execution_count": 25,
   "id": "13f9195e",
   "metadata": {},
   "outputs": [
    {
     "name": "stdout",
     "output_type": "stream",
     "text": [
      "[ 1891  1427  1287 10649  1275  2977   625  3994  1947  1701  1416  1501\n",
      "  1915   869  1964  1125  1118  1235  2553  1083   715  1821  1282  2844\n",
      " 15129  2373  4227  1178  2595   921  1422   548  1290  1458  1505  1807\n",
      "  1538  1875  1688  1096 11685  1280  1725  1093  3023  1407  6912  2777\n",
      "  1794   607  3102  1264   887  3124  1322  1395  1749  1976   634  1375\n",
      "   628  4006  2530  2847  3624  1173  1436  1699  1337  1324  1039  1782\n",
      "  1475 17434  1777 16520  1099   972  1160   532  2181  1105  1237  2288\n",
      " 11877  1647  5934  3609  1603  1674  2936  2217   625  1267  1808  4288\n",
      "  2570  2028  4412  1099]\n"
     ]
    }
   ],
   "source": [
    "print(y_test)"
   ]
  },
  {
   "cell_type": "code",
   "execution_count": 26,
   "id": "70876d39",
   "metadata": {},
   "outputs": [
    {
     "name": "stdout",
     "output_type": "stream",
     "text": [
      "     AGE  FEMALE  LOS  RACE  APRDRG\n",
      "130    0       0    3   1.0     640\n",
      "291    0       0    2   1.0     640\n",
      "37    16       1    2   1.0     755\n",
      "239    0       1   18   1.0     626\n",
      "191   16       1    2   1.0     754\n",
      "..   ...     ...  ...   ...     ...\n",
      "367    0       1    7   1.0     639\n",
      "302   16       1    0   1.0     811\n",
      "175    0       0    3   1.0     640\n",
      "348    0       0    2   1.0     138\n",
      "356    0       1    2   1.0     640\n",
      "\n",
      "[100 rows x 5 columns]\n"
     ]
    }
   ],
   "source": [
    "print(x_test)"
   ]
  },
  {
   "cell_type": "code",
   "execution_count": 27,
   "id": "5e6aad8f",
   "metadata": {},
   "outputs": [
    {
     "name": "stdout",
     "output_type": "stream",
     "text": [
      "(400, 5)\n",
      "(100, 5)\n"
     ]
    }
   ],
   "source": [
    "print(x_train.shape)\n",
    "print(x_test.shape)"
   ]
  },
  {
   "cell_type": "code",
   "execution_count": 28,
   "id": "c2e49976",
   "metadata": {},
   "outputs": [],
   "source": [
    "from sklearn.linear_model import LinearRegression\n",
    "from sklearn.impute import SimpleImputer"
   ]
  },
  {
   "cell_type": "code",
   "execution_count": 29,
   "id": "3da33f8b",
   "metadata": {},
   "outputs": [
    {
     "name": "stdout",
     "output_type": "stream",
     "text": [
      "Missing values in x_train:\n",
      "AGE       0\n",
      "FEMALE    0\n",
      "LOS       0\n",
      "RACE      1\n",
      "APRDRG    0\n",
      "dtype: int64\n"
     ]
    }
   ],
   "source": [
    "missing_values = x_train.isna().sum()\n",
    "print(\"Missing values in x_train:\")\n",
    "print(missing_values)"
   ]
  },
  {
   "cell_type": "code",
   "execution_count": 30,
   "id": "a6d64827",
   "metadata": {},
   "outputs": [],
   "source": [
    "imputer = SimpleImputer(strategy='mean')\n",
    "x_train = imputer.fit_transform(x_train)"
   ]
  },
  {
   "cell_type": "code",
   "execution_count": 31,
   "id": "6d458313",
   "metadata": {},
   "outputs": [],
   "source": [
    "lr = LinearRegression()\n"
   ]
  },
  {
   "cell_type": "code",
   "execution_count": 32,
   "id": "bf67750c",
   "metadata": {},
   "outputs": [
    {
     "data": {
      "text/html": [
       "<style>#sk-container-id-1 {color: black;}#sk-container-id-1 pre{padding: 0;}#sk-container-id-1 div.sk-toggleable {background-color: white;}#sk-container-id-1 label.sk-toggleable__label {cursor: pointer;display: block;width: 100%;margin-bottom: 0;padding: 0.3em;box-sizing: border-box;text-align: center;}#sk-container-id-1 label.sk-toggleable__label-arrow:before {content: \"▸\";float: left;margin-right: 0.25em;color: #696969;}#sk-container-id-1 label.sk-toggleable__label-arrow:hover:before {color: black;}#sk-container-id-1 div.sk-estimator:hover label.sk-toggleable__label-arrow:before {color: black;}#sk-container-id-1 div.sk-toggleable__content {max-height: 0;max-width: 0;overflow: hidden;text-align: left;background-color: #f0f8ff;}#sk-container-id-1 div.sk-toggleable__content pre {margin: 0.2em;color: black;border-radius: 0.25em;background-color: #f0f8ff;}#sk-container-id-1 input.sk-toggleable__control:checked~div.sk-toggleable__content {max-height: 200px;max-width: 100%;overflow: auto;}#sk-container-id-1 input.sk-toggleable__control:checked~label.sk-toggleable__label-arrow:before {content: \"▾\";}#sk-container-id-1 div.sk-estimator input.sk-toggleable__control:checked~label.sk-toggleable__label {background-color: #d4ebff;}#sk-container-id-1 div.sk-label input.sk-toggleable__control:checked~label.sk-toggleable__label {background-color: #d4ebff;}#sk-container-id-1 input.sk-hidden--visually {border: 0;clip: rect(1px 1px 1px 1px);clip: rect(1px, 1px, 1px, 1px);height: 1px;margin: -1px;overflow: hidden;padding: 0;position: absolute;width: 1px;}#sk-container-id-1 div.sk-estimator {font-family: monospace;background-color: #f0f8ff;border: 1px dotted black;border-radius: 0.25em;box-sizing: border-box;margin-bottom: 0.5em;}#sk-container-id-1 div.sk-estimator:hover {background-color: #d4ebff;}#sk-container-id-1 div.sk-parallel-item::after {content: \"\";width: 100%;border-bottom: 1px solid gray;flex-grow: 1;}#sk-container-id-1 div.sk-label:hover label.sk-toggleable__label {background-color: #d4ebff;}#sk-container-id-1 div.sk-serial::before {content: \"\";position: absolute;border-left: 1px solid gray;box-sizing: border-box;top: 0;bottom: 0;left: 50%;z-index: 0;}#sk-container-id-1 div.sk-serial {display: flex;flex-direction: column;align-items: center;background-color: white;padding-right: 0.2em;padding-left: 0.2em;position: relative;}#sk-container-id-1 div.sk-item {position: relative;z-index: 1;}#sk-container-id-1 div.sk-parallel {display: flex;align-items: stretch;justify-content: center;background-color: white;position: relative;}#sk-container-id-1 div.sk-item::before, #sk-container-id-1 div.sk-parallel-item::before {content: \"\";position: absolute;border-left: 1px solid gray;box-sizing: border-box;top: 0;bottom: 0;left: 50%;z-index: -1;}#sk-container-id-1 div.sk-parallel-item {display: flex;flex-direction: column;z-index: 1;position: relative;background-color: white;}#sk-container-id-1 div.sk-parallel-item:first-child::after {align-self: flex-end;width: 50%;}#sk-container-id-1 div.sk-parallel-item:last-child::after {align-self: flex-start;width: 50%;}#sk-container-id-1 div.sk-parallel-item:only-child::after {width: 0;}#sk-container-id-1 div.sk-dashed-wrapped {border: 1px dashed gray;margin: 0 0.4em 0.5em 0.4em;box-sizing: border-box;padding-bottom: 0.4em;background-color: white;}#sk-container-id-1 div.sk-label label {font-family: monospace;font-weight: bold;display: inline-block;line-height: 1.2em;}#sk-container-id-1 div.sk-label-container {text-align: center;}#sk-container-id-1 div.sk-container {/* jupyter's `normalize.less` sets `[hidden] { display: none; }` but bootstrap.min.css set `[hidden] { display: none !important; }` so we also need the `!important` here to be able to override the default hidden behavior on the sphinx rendered scikit-learn.org. See: https://github.com/scikit-learn/scikit-learn/issues/21755 */display: inline-block !important;position: relative;}#sk-container-id-1 div.sk-text-repr-fallback {display: none;}</style><div id=\"sk-container-id-1\" class=\"sk-top-container\"><div class=\"sk-text-repr-fallback\"><pre>LinearRegression()</pre><b>In a Jupyter environment, please rerun this cell to show the HTML representation or trust the notebook. <br />On GitHub, the HTML representation is unable to render, please try loading this page with nbviewer.org.</b></div><div class=\"sk-container\" hidden><div class=\"sk-item\"><div class=\"sk-estimator sk-toggleable\"><input class=\"sk-toggleable__control sk-hidden--visually\" id=\"sk-estimator-id-1\" type=\"checkbox\" checked><label for=\"sk-estimator-id-1\" class=\"sk-toggleable__label sk-toggleable__label-arrow\">LinearRegression</label><div class=\"sk-toggleable__content\"><pre>LinearRegression()</pre></div></div></div></div></div>"
      ],
      "text/plain": [
       "LinearRegression()"
      ]
     },
     "execution_count": 32,
     "metadata": {},
     "output_type": "execute_result"
    }
   ],
   "source": [
    "lr.fit(x_train, y_train)"
   ]
  },
  {
   "cell_type": "code",
   "execution_count": 33,
   "id": "f158a446",
   "metadata": {},
   "outputs": [
    {
     "name": "stdout",
     "output_type": "stream",
     "text": [
      "[ 2304.37300284  1558.44183685  2610.3865986  13078.28767928\n",
      "  2617.67928079  4777.17657543  1556.19355316  6723.41342939\n",
      "  1787.2226388   2304.37300284  1558.44183685  1558.44183685\n",
      "  1787.2226388   1621.89012131  2304.37300284  1908.27395418\n",
      "  1041.29147282  1125.81694882  3050.30416882  1041.29147282\n",
      "   295.36030683  1787.2226388   1558.44183685  2533.15380479\n",
      " 12685.97264017  2912.15665089  6276.33158959  1041.29147282\n",
      "  3050.30416882   812.51067087  2624.97196299  1442.1723655\n",
      "  1558.44183685  1558.44183685  1787.2226388   2304.37300284\n",
      "  1787.2226388   1041.29147282  3535.97309199  1041.29147282\n",
      " 14926.53638415  1558.44183685  1787.2226388   1041.29147282\n",
      "  8640.85062763  1558.44183685  4800.11803152  1787.2226388\n",
      "  1558.44183685   975.3323502   4675.81745134  1558.44183685\n",
      "  2510.2123487   1787.2226388   1558.44183685  1558.44183685\n",
      "  3521.3877276   1558.44183685  1728.55619837  1558.44183685\n",
      "  1570.77891755  6204.14319428  3256.72757806   -20.30260972\n",
      "  4554.50358149  1041.29147282  2738.99315065  3363.61044678\n",
      "  1558.44183685  1041.29147282  1558.44183685  2304.37300284\n",
      "  1041.29147282  9659.48947204  2304.37300284 12063.6920886\n",
      "  1041.29147282  1592.65696413  1722.06437121  1864.45543262\n",
      "  3929.88628536  1041.29147282  1041.29147282  3050.30416882\n",
      "  7243.53408368  2023.03356847  4770.94730274  3050.30416882\n",
      "  1787.2226388   2304.37300284  4281.90425797  4182.94422501\n",
      "  1492.48271423  1558.44183685  3286.11509849  4778.23998493\n",
      "   710.13406378  2304.37300284  5219.36829813  1041.29147282]\n"
     ]
    },
    {
     "name": "stderr",
     "output_type": "stream",
     "text": [
      "C:\\Users\\Om Prakash\\anaconda3\\Lib\\site-packages\\sklearn\\base.py:457: UserWarning: X has feature names, but LinearRegression was fitted without feature names\n",
      "  warnings.warn(\n"
     ]
    }
   ],
   "source": [
    "y_pred=lr.predict(x_test)\n",
    "print(y_pred)"
   ]
  },
  {
   "cell_type": "code",
   "execution_count": 34,
   "id": "2f4894bd",
   "metadata": {},
   "outputs": [
    {
     "name": "stdout",
     "output_type": "stream",
     "text": [
      "[ 1891  1427  1287 10649  1275  2977   625  3994  1947  1701  1416  1501\n",
      "  1915   869  1964  1125  1118  1235  2553  1083   715  1821  1282  2844\n",
      " 15129  2373  4227  1178  2595   921  1422   548  1290  1458  1505  1807\n",
      "  1538  1875  1688  1096 11685  1280  1725  1093  3023  1407  6912  2777\n",
      "  1794   607  3102  1264   887  3124  1322  1395  1749  1976   634  1375\n",
      "   628  4006  2530  2847  3624  1173  1436  1699  1337  1324  1039  1782\n",
      "  1475 17434  1777 16520  1099   972  1160   532  2181  1105  1237  2288\n",
      " 11877  1647  5934  3609  1603  1674  2936  2217   625  1267  1808  4288\n",
      "  2570  2028  4412  1099]\n"
     ]
    }
   ],
   "source": [
    "print(y_test)"
   ]
  },
  {
   "cell_type": "code",
   "execution_count": 35,
   "id": "00b9b2b1",
   "metadata": {},
   "outputs": [
    {
     "data": {
      "text/plain": [
       "array([ 2304.37300284,  1558.44183685,  2610.3865986 , 13078.28767928,\n",
       "        2617.67928079,  4777.17657543,  1556.19355316,  6723.41342939,\n",
       "        1787.2226388 ,  2304.37300284,  1558.44183685,  1558.44183685,\n",
       "        1787.2226388 ,  1621.89012131,  2304.37300284,  1908.27395418,\n",
       "        1041.29147282,  1125.81694882,  3050.30416882,  1041.29147282,\n",
       "         295.36030683,  1787.2226388 ,  1558.44183685,  2533.15380479,\n",
       "       12685.97264017,  2912.15665089,  6276.33158959,  1041.29147282,\n",
       "        3050.30416882,   812.51067087,  2624.97196299,  1442.1723655 ,\n",
       "        1558.44183685,  1558.44183685,  1787.2226388 ,  2304.37300284,\n",
       "        1787.2226388 ,  1041.29147282,  3535.97309199,  1041.29147282,\n",
       "       14926.53638415,  1558.44183685,  1787.2226388 ,  1041.29147282,\n",
       "        8640.85062763,  1558.44183685,  4800.11803152,  1787.2226388 ,\n",
       "        1558.44183685,   975.3323502 ,  4675.81745134,  1558.44183685,\n",
       "        2510.2123487 ,  1787.2226388 ,  1558.44183685,  1558.44183685,\n",
       "        3521.3877276 ,  1558.44183685,  1728.55619837,  1558.44183685,\n",
       "        1570.77891755,  6204.14319428,  3256.72757806,   -20.30260972,\n",
       "        4554.50358149,  1041.29147282,  2738.99315065,  3363.61044678,\n",
       "        1558.44183685,  1041.29147282,  1558.44183685,  2304.37300284,\n",
       "        1041.29147282,  9659.48947204,  2304.37300284, 12063.6920886 ,\n",
       "        1041.29147282,  1592.65696413,  1722.06437121,  1864.45543262,\n",
       "        3929.88628536,  1041.29147282,  1041.29147282,  3050.30416882,\n",
       "        7243.53408368,  2023.03356847,  4770.94730274,  3050.30416882,\n",
       "        1787.2226388 ,  2304.37300284,  4281.90425797,  4182.94422501,\n",
       "        1492.48271423,  1558.44183685,  3286.11509849,  4778.23998493,\n",
       "         710.13406378,  2304.37300284,  5219.36829813,  1041.29147282])"
      ]
     },
     "execution_count": 35,
     "metadata": {},
     "output_type": "execute_result"
    }
   ],
   "source": [
    "y_pred[0:100]"
   ]
  },
  {
   "cell_type": "code",
   "execution_count": 36,
   "id": "c21f48e5",
   "metadata": {},
   "outputs": [],
   "source": [
    "from sklearn.metrics import mean_squared_error"
   ]
  },
  {
   "cell_type": "code",
   "execution_count": 37,
   "id": "c1587231",
   "metadata": {},
   "outputs": [
    {
     "data": {
      "text/plain": [
       "2447526.7882569316"
      ]
     },
     "execution_count": 37,
     "metadata": {},
     "output_type": "execute_result"
    }
   ],
   "source": [
    "mean_squared_error(y_test,y_pred)"
   ]
  },
  {
   "cell_type": "markdown",
   "id": "cf1aab9b",
   "metadata": {},
   "source": []
  },
  {
   "cell_type": "code",
   "execution_count": 38,
   "id": "f4f55efc",
   "metadata": {},
   "outputs": [
    {
     "name": "stdout",
     "output_type": "stream",
     "text": [
      "     AGE  FEMALE  LOS  RACE  APRDRG  TOTCHG\n",
      "0     17       1    2   1.0     560    2660\n",
      "1     17       0    2   1.0     753    1689\n",
      "2     17       1    7   1.0     930   20060\n",
      "3     17       1    1   1.0     758     736\n",
      "4     17       1    1   1.0     754    1194\n",
      "..   ...     ...  ...   ...     ...     ...\n",
      "495    0       1    6   1.0     636    5881\n",
      "496    0       1    2   1.0     640    1171\n",
      "497    0       1    2   1.0     640    1171\n",
      "498    0       1    2   1.0     640    1086\n",
      "499    0       0    4   1.0     640    4931\n",
      "\n",
      "[500 rows x 6 columns]\n"
     ]
    }
   ],
   "source": [
    "#checking if all the features are numeric values \n",
    "df_num=df.select_dtypes(np.number)\n",
    "print(df_num)"
   ]
  },
  {
   "cell_type": "markdown",
   "id": "63a0fdd4",
   "metadata": {},
   "source": [
    "\n"
   ]
  },
  {
   "cell_type": "code",
   "execution_count": 60,
   "id": "e30bec1a",
   "metadata": {},
   "outputs": [],
   "source": [
    "#now implementing linear regression from scratch by making my own class without using sklearn"
   ]
  },
  {
   "cell_type": "code",
   "execution_count": 50,
   "id": "a33881b9",
   "metadata": {},
   "outputs": [],
   "source": [
    "class Mylr:\n",
    "    def _init_(self):\n",
    "        self.coef=None\n",
    "        self.intercept_=None\n",
    "    def fit(self,X_train,y_train):\n",
    "        x_train = np.insert(X_train,0,1,axis=1)\n",
    "        \n",
    "        # calcuate the coeffs\n",
    "        betas = np.linalg.inv(np.dot(x_train.T,x_train)).dot(x_train.T).dot(y_train)\n",
    "        self.intercept_ = betas[0]\n",
    "        self.coef_ = betas[1:]\n",
    "    \n",
    "    def predict(self,x_test):\n",
    "        y_pred = np.dot(x_test,self.coef_) + self.intercept_\n",
    "        return y_pred"
   ]
  },
  {
   "cell_type": "code",
   "execution_count": 51,
   "id": "a553fd8d",
   "metadata": {},
   "outputs": [],
   "source": [
    "lr = Mylr()"
   ]
  },
  {
   "cell_type": "code",
   "execution_count": 52,
   "id": "cf01f890",
   "metadata": {},
   "outputs": [],
   "source": [
    "lr.fit(x_train,y_train)"
   ]
  },
  {
   "cell_type": "code",
   "execution_count": 53,
   "id": "58475d1e",
   "metadata": {},
   "outputs": [
    {
     "data": {
      "text/plain": [
       "(400, 5)"
      ]
     },
     "execution_count": 53,
     "metadata": {},
     "output_type": "execute_result"
    }
   ],
   "source": [
    "x_train.shape"
   ]
  },
  {
   "cell_type": "code",
   "execution_count": 54,
   "id": "6b4993be",
   "metadata": {},
   "outputs": [
    {
     "data": {
      "text/plain": [
       "(400, 6)"
      ]
     },
     "execution_count": 54,
     "metadata": {},
     "output_type": "execute_result"
    }
   ],
   "source": [
    "np.insert(x_train,0,1,axis=1).shape"
   ]
  },
  {
   "cell_type": "code",
   "execution_count": 55,
   "id": "71f8dfec",
   "metadata": {},
   "outputs": [],
   "source": [
    "y_pred = lr.predict(x_test)"
   ]
  },
  {
   "cell_type": "code",
   "execution_count": 57,
   "id": "ea303c5e",
   "metadata": {},
   "outputs": [
    {
     "data": {
      "text/plain": [
       "2447526.7882569428"
      ]
     },
     "execution_count": 57,
     "metadata": {},
     "output_type": "execute_result"
    }
   ],
   "source": [
    "mean_squared_error(y_test,y_pred)"
   ]
  },
  {
   "cell_type": "code",
   "execution_count": 58,
   "id": "83ede4c4",
   "metadata": {},
   "outputs": [
    {
     "data": {
      "text/plain": [
       "array([ 150.48459863, -517.15036404,  745.93116598, -229.43334219,\n",
       "         -7.29268219])"
      ]
     },
     "execution_count": 58,
     "metadata": {},
     "output_type": "execute_result"
    }
   ],
   "source": [
    "lr.coef_"
   ]
  },
  {
   "cell_type": "code",
   "execution_count": 59,
   "id": "9662e849",
   "metadata": {},
   "outputs": [
    {
     "data": {
      "text/plain": [
       "4963.329451087559"
      ]
     },
     "execution_count": 59,
     "metadata": {},
     "output_type": "execute_result"
    }
   ],
   "source": [
    "lr.intercept_"
   ]
  },
  {
   "cell_type": "code",
   "execution_count": null,
   "id": "af4f92f3",
   "metadata": {},
   "outputs": [],
   "source": []
  }
 ],
 "metadata": {
  "kernelspec": {
   "display_name": "Python 3 (ipykernel)",
   "language": "python",
   "name": "python3"
  },
  "language_info": {
   "codemirror_mode": {
    "name": "ipython",
    "version": 3
   },
   "file_extension": ".py",
   "mimetype": "text/x-python",
   "name": "python",
   "nbconvert_exporter": "python",
   "pygments_lexer": "ipython3",
   "version": "3.11.5"
  }
 },
 "nbformat": 4,
 "nbformat_minor": 5
}
